{
  "nbformat": 4,
  "nbformat_minor": 0,
  "metadata": {
    "colab": {
      "name": "K Shot Learning .ipynb",
      "version": "0.3.2",
      "provenance": []
    },
    "language_info": {
      "codemirror_mode": {
        "name": "ipython",
        "version": 3
      },
      "file_extension": ".py",
      "mimetype": "text/x-python",
      "name": "python",
      "nbconvert_exporter": "python",
      "pygments_lexer": "ipython3",
      "version": "3.6.7"
    },
    "kernelspec": {
      "name": "python3",
      "display_name": "Python 3"
    },
    "accelerator": "GPU"
  },
  "cells": [
    {
      "cell_type": "code",
      "metadata": {
        "id": "3g18gMATukhs",
        "colab_type": "code",
        "colab": {}
      },
      "source": [
        "from keras.layers import Input, Conv2D, Lambda, Subtract, Dense, Flatten,MaxPooling2D\n",
        "from keras.models import Model, Sequential\n",
        "from keras.regularizers import l2\n",
        "from keras import backend as K\n",
        "from keras.optimizers import SGD,Adam\n",
        "from keras.losses import binary_crossentropy\n",
        "import numpy.random as rng\n",
        "import numpy as np\n",
        "import os\n",
        "import dill as pickle\n",
        "import matplotlib.pyplot as plt\n",
        "from sklearn.utils import shuffle\n",
        "import cv2\n",
        "from sklearn.model_selection import train_test_split\n",
        "from google.colab import drive\n",
        "from tqdm import tqdm\n",
        "from keras.initializers import RandomNormal\n",
        "from keras.callbacks import EarlyStopping"
      ],
      "execution_count": 0,
      "outputs": []
    },
    {
      "cell_type": "code",
      "metadata": {
        "id": "U9tC4OjquwVb",
        "colab_type": "code",
        "outputId": "8bc83b47-cedc-4152-c956-e56877b9ecdf",
        "colab": {
          "base_uri": "https://localhost:8080/",
          "height": 34
        }
      },
      "source": [
        "drive.mount('/content/gdrive')"
      ],
      "execution_count": 46,
      "outputs": [
        {
          "output_type": "stream",
          "text": [
            "Drive already mounted at /content/gdrive; to attempt to forcibly remount, call drive.mount(\"/content/gdrive\", force_remount=True).\n"
          ],
          "name": "stdout"
        }
      ]
    },
    {
      "cell_type": "code",
      "metadata": {
        "id": "Re6Vorq7vMrA",
        "colab_type": "code",
        "colab": {}
      },
      "source": [
        "!cd ."
      ],
      "execution_count": 0,
      "outputs": []
    },
    {
      "cell_type": "code",
      "metadata": {
        "id": "2mTa7gdeukh3",
        "colab_type": "code",
        "colab": {}
      },
      "source": [
        "path = 'gdrive/My Drive/Omniglot Dataset/images_background'"
      ],
      "execution_count": 0,
      "outputs": []
    },
    {
      "cell_type": "code",
      "metadata": {
        "id": "aD9MTb9mukh_",
        "colab_type": "code",
        "colab": {}
      },
      "source": [
        "def load_data():\n",
        "    \n",
        "    lang_folders = os.listdir(path)\n",
        "    \n",
        "    all_chars = []    \n",
        "    \n",
        "    lim = 0\n",
        "    \n",
        "    for i in tqdm(lang_folders):  \n",
        "      \n",
        "        if (lim >= 5):\n",
        "          break\n",
        "        \n",
        "        chars =os.listdir(path + '/' + i)\n",
        "        \n",
        "        for char in chars:\n",
        "            \n",
        "            all_images = os.listdir(path + '/' + i + '/' + char)\n",
        "            \n",
        "            characters = []\n",
        "            \n",
        "            for img in all_images:\n",
        "                \n",
        "                curr_image = cv2.imread(path + '/' + i + '/' + char+ '/' + img)                    \n",
        "                \n",
        "                characters.append(curr_image)                                                                            \n",
        "                \n",
        "            characters = np.array(characters)\n",
        "                               \n",
        "            all_chars.append(characters)\n",
        "            \n",
        "        lim = lim + 1\n",
        "            \n",
        "    return np.array(all_chars)\n",
        "    \n",
        "    "
      ],
      "execution_count": 0,
      "outputs": []
    },
    {
      "cell_type": "code",
      "metadata": {
        "id": "R1x5a78hukiD",
        "colab_type": "code",
        "outputId": "d17209d3-3168-4418-a0ff-f5556e59406d",
        "colab": {
          "base_uri": "https://localhost:8080/",
          "height": 238
        }
      },
      "source": [
        "all_images= load_data()\n"
      ],
      "execution_count": 50,
      "outputs": [
        {
          "output_type": "stream",
          "text": [
            "\n",
            "\n",
            "  0%|          | 0/30 [00:00<?, ?it/s]\u001b[A\u001b[A\n",
            "\n",
            "  3%|▎         | 1/30 [00:01<00:34,  1.20s/it]\u001b[A\u001b[A\n",
            "\n",
            "  7%|▋         | 2/30 [00:03<00:38,  1.38s/it]\u001b[A\u001b[A\n",
            "\n",
            " 10%|█         | 3/30 [00:04<00:39,  1.44s/it]\u001b[A\u001b[A\n",
            "\n",
            " 13%|█▎        | 4/30 [00:07<00:45,  1.77s/it]\u001b[A\u001b[A\n",
            "\n",
            " 17%|█▋        | 5/30 [00:09<00:49,  1.97s/it]\u001b[A\u001b[A"
          ],
          "name": "stderr"
        }
      ]
    },
    {
      "cell_type": "code",
      "metadata": {
        "id": "apfcG4HDukiN",
        "colab_type": "code",
        "colab": {}
      },
      "source": [
        "def make_pairs(all_images):\n",
        "    \n",
        "    samples = all_images[:,0,:,:,:]\n",
        "    \n",
        "    X = []\n",
        "    Y = []\n",
        "    \n",
        "    for i in range(all_images.shape[0]):\n",
        "        \n",
        "         for j in  range(all_images.shape[1]):\n",
        "                \n",
        "                X.append([all_images[i,0,:,:,:], all_images[i,j,:,:,:]])\n",
        "                \n",
        "                Y.append(1)\n",
        "                \n",
        "         \n",
        "         for j in range(all_images.shape[0]):\n",
        "                \n",
        "                if i is j:\n",
        "                    continue\n",
        "                \n",
        "                X.append([all_images[i,0,:,:,:], all_images[j,0,:,:,:]])\n",
        "                \n",
        "                Y.append(0)\n",
        "                \n",
        "\n",
        "    return np.array(X), np.array(Y)"
      ],
      "execution_count": 0,
      "outputs": []
    },
    {
      "cell_type": "code",
      "metadata": {
        "id": "Z1FsbF0IkGP3",
        "colab_type": "code",
        "colab": {
          "base_uri": "https://localhost:8080/",
          "height": 34
        },
        "outputId": "6828b8aa-6a2d-41a3-8c83-9ba2f0ca003b"
      },
      "source": [
        "all_images.shape"
      ],
      "execution_count": 52,
      "outputs": [
        {
          "output_type": "execute_result",
          "data": {
            "text/plain": [
              "(156, 20, 105, 105, 3)"
            ]
          },
          "metadata": {
            "tags": []
          },
          "execution_count": 52
        }
      ]
    },
    {
      "cell_type": "code",
      "metadata": {
        "id": "OhIK4Q_pukiR",
        "colab_type": "code",
        "colab": {}
      },
      "source": [
        "x,y = make_pairs(all_images)"
      ],
      "execution_count": 0,
      "outputs": []
    },
    {
      "cell_type": "code",
      "metadata": {
        "id": "8R-DPtWOigKp",
        "colab_type": "code",
        "colab": {
          "base_uri": "https://localhost:8080/",
          "height": 34
        },
        "outputId": "804b3677-0afd-4031-c12c-f51797f55acf"
      },
      "source": [
        "x.shape"
      ],
      "execution_count": 55,
      "outputs": [
        {
          "output_type": "execute_result",
          "data": {
            "text/plain": [
              "(27300, 2, 105, 105, 3)"
            ]
          },
          "metadata": {
            "tags": []
          },
          "execution_count": 55
        }
      ]
    },
    {
      "cell_type": "code",
      "metadata": {
        "id": "J3q2UTOhukiU",
        "colab_type": "code",
        "colab": {}
      },
      "source": [
        "X,Y = shuffle(x,y)"
      ],
      "execution_count": 0,
      "outputs": []
    },
    {
      "cell_type": "code",
      "metadata": {
        "id": "AcI44E4NidC8",
        "colab_type": "code",
        "colab": {
          "base_uri": "https://localhost:8080/",
          "height": 34
        },
        "outputId": "eb010efe-3d00-4f8b-9fb2-30099c0deec4"
      },
      "source": [
        "X.shape"
      ],
      "execution_count": 57,
      "outputs": [
        {
          "output_type": "execute_result",
          "data": {
            "text/plain": [
              "(27300, 2, 105, 105, 3)"
            ]
          },
          "metadata": {
            "tags": []
          },
          "execution_count": 57
        }
      ]
    },
    {
      "cell_type": "code",
      "metadata": {
        "id": "8I5goy5nukiX",
        "colab_type": "code",
        "colab": {}
      },
      "source": [
        "X_train, X_test, Y_train, Y_test = np.array(train_test_split(X,Y, test_size = 0.2))"
      ],
      "execution_count": 0,
      "outputs": []
    },
    {
      "cell_type": "code",
      "metadata": {
        "id": "uJUYw0CZspY6",
        "colab_type": "code",
        "colab": {}
      },
      "source": [
        "X,Y,x,y = None,None,None,None"
      ],
      "execution_count": 0,
      "outputs": []
    },
    {
      "cell_type": "code",
      "metadata": {
        "id": "pJftVdVy8vKu",
        "colab_type": "code",
        "colab": {}
      },
      "source": [
        "X_train1 = X_train[:,0,:,:,:]\n",
        "X_train2 = X_train[:,1,:,:,:]\n",
        "X_test1 = X_test[:,0,:,:,:]\n",
        "X_test2 = X_test[:,1,:,:,:]"
      ],
      "execution_count": 0,
      "outputs": []
    },
    {
      "cell_type": "code",
      "metadata": {
        "id": "OcoeAzfOukib",
        "colab_type": "code",
        "colab": {}
      },
      "source": [
        "class Siamese_Model() : \n",
        "    \n",
        "    def __init__(self, shape, name = None) : \n",
        "        \n",
        "        self.input_shape =shape\n",
        "        \n",
        "\n",
        "        \n",
        "    def getModel(self):\n",
        "        \n",
        "        W_init = RandomNormal(mean =0 , stddev = 1e-2, seed = None)\n",
        "        b_init = RandomNormal(mean = 0.5, stddev = 1e-2, seed = None)\n",
        "        \n",
        "        left_input = Input(self.input_shape)\n",
        "        right_input = Input(self.input_shape)\n",
        "\n",
        "        convnet = Sequential()\n",
        "        convnet.add(Conv2D(64,(10,10),activation='relu',input_shape=self.input_shape,\n",
        "                   kernel_initializer=W_init,kernel_regularizer=l2(2e-4)))\n",
        "        convnet.add(MaxPooling2D())\n",
        "        convnet.add(Conv2D(128,(7,7),activation='relu',\n",
        "                   kernel_regularizer=l2(2e-4),kernel_initializer=W_init,bias_initializer=b_init))\n",
        "        convnet.add(MaxPooling2D())\n",
        "        convnet.add(Conv2D(128,(4,4),activation='relu',kernel_initializer=W_init,kernel_regularizer=l2(2e-4),bias_initializer=b_init))\n",
        "        convnet.add(MaxPooling2D())\n",
        "        convnet.add(Conv2D(256,(4,4),activation='relu',kernel_initializer=W_init,kernel_regularizer=l2(2e-4),bias_initializer=b_init))\n",
        "        convnet.add(Flatten())\n",
        "        convnet.add(Dense(4096,activation=\"sigmoid\",kernel_regularizer=l2(1e-3),kernel_initializer=W_init,bias_initializer=b_init))\n",
        "\n",
        "        encoded_l = convnet(left_input)\n",
        "        encoded_r = convnet(right_input)\n",
        "\n",
        "        L1_distance = lambda x: K.abs(x[0]-x[1])\n",
        "        both = Lambda(L1_distance)([encoded_l,encoded_r])\n",
        "        prediction = Dense(1,activation='sigmoid',bias_initializer=b_init)(both)\n",
        "        self.siamese_net = Model(input=[left_input,right_input],output=prediction)\n",
        "        \n",
        "        return self.siamese_net\n",
        "        "
      ],
      "execution_count": 0,
      "outputs": []
    },
    {
      "cell_type": "code",
      "metadata": {
        "id": "ruFCmKdEukif",
        "colab_type": "code",
        "colab": {
          "base_uri": "https://localhost:8080/",
          "height": 377
        },
        "outputId": "a75c597f-1666-4d43-a9d1-399b90290ccf"
      },
      "source": [
        "model = Siamese_Model((105,105,3)).getModel()\n",
        "model.summary()"
      ],
      "execution_count": 62,
      "outputs": [
        {
          "output_type": "stream",
          "text": [
            "__________________________________________________________________________________________________\n",
            "Layer (type)                    Output Shape         Param #     Connected to                     \n",
            "==================================================================================================\n",
            "input_3 (InputLayer)            (None, 105, 105, 3)  0                                            \n",
            "__________________________________________________________________________________________________\n",
            "input_4 (InputLayer)            (None, 105, 105, 3)  0                                            \n",
            "__________________________________________________________________________________________________\n",
            "sequential_2 (Sequential)       (None, 4096)         38960448    input_3[0][0]                    \n",
            "                                                                 input_4[0][0]                    \n",
            "__________________________________________________________________________________________________\n",
            "lambda_2 (Lambda)               (None, 4096)         0           sequential_2[1][0]               \n",
            "                                                                 sequential_2[2][0]               \n",
            "__________________________________________________________________________________________________\n",
            "dense_4 (Dense)                 (None, 1)            4097        lambda_2[0][0]                   \n",
            "==================================================================================================\n",
            "Total params: 38,964,545\n",
            "Trainable params: 38,964,545\n",
            "Non-trainable params: 0\n",
            "__________________________________________________________________________________________________\n"
          ],
          "name": "stdout"
        },
        {
          "output_type": "stream",
          "text": [
            "/usr/local/lib/python3.6/dist-packages/ipykernel_launcher.py:36: UserWarning: Update your `Model` call to the Keras 2 API: `Model(inputs=[<tf.Tenso..., outputs=Tensor(\"de...)`\n"
          ],
          "name": "stderr"
        }
      ]
    },
    {
      "cell_type": "code",
      "metadata": {
        "id": "T_2sNbArukil",
        "colab_type": "code",
        "colab": {}
      },
      "source": [
        "es = EarlyStopping(monitor = 'val_acc', mode = 'max')\n",
        "optimizer = Adam(0.00006)\n",
        "model.compile(loss=\"binary_crossentropy\",optimizer=optimizer, metrics = ['accuracy'])"
      ],
      "execution_count": 0,
      "outputs": []
    },
    {
      "cell_type": "code",
      "metadata": {
        "id": "ONNjPZCuukio",
        "colab_type": "code",
        "colab": {
          "base_uri": "https://localhost:8080/",
          "height": 204
        },
        "outputId": "0aee3992-179b-4902-eec0-096315a99b29"
      },
      "source": [
        "history = model.fit( [X_train1, X_train2] , Y_train, batch_size = 16, epochs = 15, validation_data = [[X_test1,X_test2], Y_test], callbacks = [es])"
      ],
      "execution_count": 64,
      "outputs": [
        {
          "output_type": "stream",
          "text": [
            "Train on 21840 samples, validate on 5460 samples\n",
            "Epoch 1/15\n",
            "21840/21840 [==============================] - 227s 10ms/step - loss: 1.2636 - acc: 0.9092 - val_loss: 0.4943 - val_acc: 0.9392\n",
            "Epoch 2/15\n",
            "21840/21840 [==============================] - 224s 10ms/step - loss: 0.3287 - acc: 0.9691 - val_loss: 0.2298 - val_acc: 0.9813\n",
            "Epoch 3/15\n",
            "21840/21840 [==============================] - 224s 10ms/step - loss: 0.1729 - acc: 0.9879 - val_loss: 0.1551 - val_acc: 0.9842\n",
            "Epoch 4/15\n",
            "21840/21840 [==============================] - 224s 10ms/step - loss: 0.1145 - acc: 0.9939 - val_loss: 0.1135 - val_acc: 0.9916\n",
            "Epoch 5/15\n",
            "21840/21840 [==============================] - 224s 10ms/step - loss: 0.0941 - acc: 0.9952 - val_loss: 0.1093 - val_acc: 0.9870\n"
          ],
          "name": "stdout"
        }
      ]
    },
    {
      "cell_type": "code",
      "metadata": {
        "id": "nA2mJMftiYeI",
        "colab_type": "code",
        "colab": {
          "base_uri": "https://localhost:8080/",
          "height": 269
        },
        "outputId": "263682e3-c798-4bd0-e9a2-addc51612885"
      },
      "source": [
        "plt.plot(history.history['acc'], label='train')\n",
        "plt.plot(history.history['val_acc'], label='test')\n",
        "plt.plot(history.history['loss'], label='train')\n",
        "plt.plot(history.history['val_loss'], label='test')\n",
        "plt.legend()\n",
        "plt.show()"
      ],
      "execution_count": 65,
      "outputs": [
        {
          "output_type": "display_data",
          "data": {
            "image/png": "[encoded data removed]",
            "text/plain": [
              "<Figure size 432x288 with 1 Axes>"
            ]
          },
          "metadata": {
            "tags": []
          }
        }
      ]
    },
    {
      "cell_type": "code",
      "metadata": {
        "id": "ZtDQsB8-qlHC",
        "colab_type": "code",
        "colab": {}
      },
      "source": [
        "test_path1 = 'gdrive/My Drive/Omniglot Dataset/images_evaluation/Angelic/character02' \n",
        "test_path2 = 'gdrive/My Drive/Omniglot Dataset/images_evaluation/Atlantean/character02' "
      ],
      "execution_count": 0,
      "outputs": []
    },
    {
      "cell_type": "code",
      "metadata": {
        "id": "mtWJ9FyxZw8G",
        "colab_type": "code",
        "colab": {}
      },
      "source": [
        "tis1 = os.listdir(test_path1)\n",
        "tis2 = os.listdir(test_path2)\n",
        "img1 = cv2.imread(test_path1 + '/' + tis1[0])\n",
        "img2 = cv2.imread(test_path2 +  '/' + tis2[1])"
      ],
      "execution_count": 0,
      "outputs": []
    },
    {
      "cell_type": "code",
      "metadata": {
        "id": "gf4rqQfoaBLh",
        "colab_type": "code",
        "colab": {}
      },
      "source": [
        "preds = model.predict([[img1],[img2]])"
      ],
      "execution_count": 0,
      "outputs": []
    },
    {
      "cell_type": "code",
      "metadata": {
        "id": "OeJ7DR4AaO8w",
        "colab_type": "code",
        "colab": {
          "base_uri": "https://localhost:8080/",
          "height": 34
        },
        "outputId": "47a8772c-a959-4593-fe2a-8053eaa7d4b2"
      },
      "source": [
        "preds"
      ],
      "execution_count": 81,
      "outputs": [
        {
          "output_type": "execute_result",
          "data": {
            "text/plain": [
              "array([[0.07336505]], dtype=float32)"
            ]
          },
          "metadata": {
            "tags": []
          },
          "execution_count": 81
        }
      ]
    },
    {
      "cell_type": "code",
      "metadata": {
        "id": "nif8TEpibUyy",
        "colab_type": "code",
        "colab": {}
      },
      "source": [
        "model.save('Siamese_Network.h5')"
      ],
      "execution_count": 0,
      "outputs": []
    },
    {
      "cell_type": "code",
      "metadata": {
        "id": "PQUDNF8QhCkm",
        "colab_type": "code",
        "colab": {
          "base_uri": "https://localhost:8080/",
          "height": 442
        },
        "outputId": "5e68c729-a5cb-4f60-92ef-bf6ba3e7b3bf"
      },
      "source": [
        "from google.colab import files\n",
        "files.download('Siamese_Network.h5')"
      ],
      "execution_count": 71,
      "outputs": [
        {
          "output_type": "stream",
          "text": [
            "----------------------------------------\n",
            "Exception happened during processing of request from ('::ffff:127.0.0.1', 35676, 0, 0)\n",
            "Traceback (most recent call last):\n",
            "  File \"/usr/lib/python3.6/socketserver.py\", line 320, in _handle_request_noblock\n",
            "    self.process_request(request, client_address)\n",
            "  File \"/usr/lib/python3.6/socketserver.py\", line 351, in process_request\n",
            "    self.finish_request(request, client_address)\n",
            "  File \"/usr/lib/python3.6/socketserver.py\", line 364, in finish_request\n",
            "    self.RequestHandlerClass(request, client_address, self)\n",
            "  File \"/usr/lib/python3.6/socketserver.py\", line 724, in __init__\n",
            "    self.handle()\n",
            "  File \"/usr/lib/python3.6/http/server.py\", line 418, in handle\n",
            "    self.handle_one_request()\n",
            "  File \"/usr/lib/python3.6/http/server.py\", line 406, in handle_one_request\n",
            "    method()\n",
            "  File \"/usr/lib/python3.6/http/server.py\", line 639, in do_GET\n",
            "    self.copyfile(f, self.wfile)\n",
            "  File \"/usr/lib/python3.6/http/server.py\", line 800, in copyfile\n",
            "    shutil.copyfileobj(source, outputfile)\n",
            "  File \"/usr/lib/python3.6/shutil.py\", line 82, in copyfileobj\n",
            "    fdst.write(buf)\n",
            "  File \"/usr/lib/python3.6/socketserver.py\", line 803, in write\n",
            "    self._sock.sendall(b)\n",
            "ConnectionResetError: [Errno 104] Connection reset by peer\n",
            "----------------------------------------\n"
          ],
          "name": "stderr"
        }
      ]
    },
    {
      "cell_type": "code",
      "metadata": {
        "id": "bE_vvpG6hHok",
        "colab_type": "code",
        "colab": {}
      },
      "source": [
        ""
      ],
      "execution_count": 0,
      "outputs": []
    }
  ]
}